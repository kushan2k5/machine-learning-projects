{
 "cells": [
  {
   "cell_type": "markdown",
   "id": "60d46237",
   "metadata": {},
   "source": [
    "# Standard Scaler in Machine Learning\n",
    "\n",
    "This notebook demonstrates how to use `StandardScaler` from `sklearn.preprocessing` to normalize numerical features in a dataset. Standardization is a common preprocessing step that ensures each feature has a mean of 0 and a standard deviation of 1.\n",
    "\n",
    "We'll create a sample DataFrame and observe how scaling transforms the data.\n"
   ]
  },
  {
   "cell_type": "markdown",
   "metadata": {
    "id": "dqbCwGM_L448"
   },
   "source": [
    "This script applies StandardScaler from sklearn to normalize the Age and Salary features of a small dataset. Standard scaling adjusts the data to have a mean of 0 and standard deviation of 1, which is important for many machine learning models that rely on distance-based calculations. The output shows the scaled features alongside the original names for reference."
   ]
  },
  {
   "cell_type": "code",
   "execution_count": 1,
   "metadata": {
    "executionInfo": {
     "elapsed": 7821,
     "status": "ok",
     "timestamp": 1746779049654,
     "user": {
      "displayName": "Kushan Rana",
      "userId": "17808811165655043065"
     },
     "user_tz": -330
    },
    "id": "Fc1CLNj-QPSJ"
   },
   "outputs": [],
   "source": [
    "import pandas as pd\n",
    "from sklearn.preprocessing import MinMaxScaler, StandardScaler, LabelEncoder, OneHotEncoder\n",
    "from sklearn.compose import ColumnTransformer\n",
    "from sklearn.pipeline import Pipeline\n",
    "from sklearn.impute import SimpleImputer\n",
    "import numpy as np\n",
    "# Importing all the libraries that we will need in the for the in the further code"
   ]
  },
  {
   "cell_type": "code",
   "execution_count": 3,
   "metadata": {
    "executionInfo": {
     "elapsed": 4,
     "status": "ok",
     "timestamp": 1746779065263,
     "user": {
      "displayName": "Kushan Rana",
      "userId": "17808811165655043065"
     },
     "user_tz": -330
    },
    "id": "JX_Otod9Qe-4"
   },
   "outputs": [],
   "source": [
    "data = {\n",
    "    'Name': ['Alice', 'Bob', 'Charlie', 'David', 'Eva'],\n",
    "    'Age': [25, 30, 35, 40, 45],\n",
    "    'Salary': [50000, 60000, 70000, 80000, 90000]\n",
    "}\n",
    "# Providing with the small data set"
   ]
  },
  {
   "cell_type": "code",
   "execution_count": 4,
   "metadata": {
    "executionInfo": {
     "elapsed": 16,
     "status": "ok",
     "timestamp": 1746779068818,
     "user": {
      "displayName": "Kushan Rana",
      "userId": "17808811165655043065"
     },
     "user_tz": -330
    },
    "id": "NUfuaVHVQnUe"
   },
   "outputs": [],
   "source": [
    "df = pd.DataFrame(data)"
   ]
  },
  {
   "cell_type": "code",
   "execution_count": 5,
   "metadata": {
    "colab": {
     "base_uri": "https://localhost:8080/"
    },
    "executionInfo": {
     "elapsed": 61,
     "status": "ok",
     "timestamp": 1746779070864,
     "user": {
      "displayName": "Kushan Rana",
      "userId": "17808811165655043065"
     },
     "user_tz": -330
    },
    "id": "FTwrImuSQrrS",
    "outputId": "bc9ca246-76d4-4d6b-c321-861429926dee"
   },
   "outputs": [
    {
     "name": "stdout",
     "output_type": "stream",
     "text": [
      "Original Data:\n",
      "      Name  Age  Salary\n",
      "0    Alice   25   50000\n",
      "1      Bob   30   60000\n",
      "2  Charlie   35   70000\n",
      "3    David   40   80000\n",
      "4      Eva   45   90000\n"
     ]
    }
   ],
   "source": [
    "print('Original Data:')\n",
    "print(df)\n",
    "#displaying the original data set"
   ]
  },
  {
   "cell_type": "code",
   "execution_count": 6,
   "metadata": {
    "executionInfo": {
     "elapsed": 13,
     "status": "ok",
     "timestamp": 1746779073560,
     "user": {
      "displayName": "Kushan Rana",
      "userId": "17808811165655043065"
     },
     "user_tz": -330
    },
    "id": "u3dvWJwSQuLK"
   },
   "outputs": [],
   "source": [
    "min_max_scaler = MinMaxScaler()\n",
    "# using minimax scalar"
   ]
  },
  {
   "cell_type": "code",
   "execution_count": 7,
   "metadata": {
    "executionInfo": {
     "elapsed": 10,
     "status": "ok",
     "timestamp": 1746779075453,
     "user": {
      "displayName": "Kushan Rana",
      "userId": "17808811165655043065"
     },
     "user_tz": -330
    },
    "id": "eBKhiuo7Qy6E"
   },
   "outputs": [],
   "source": [
    "df[['Age', 'Salary']] = min_max_scaler.fit_transform(df[['Age', 'Salary']])"
   ]
  },
  {
   "cell_type": "code",
   "execution_count": 8,
   "metadata": {
    "colab": {
     "base_uri": "https://localhost:8080/"
    },
    "executionInfo": {
     "elapsed": 11,
     "status": "ok",
     "timestamp": 1746779092065,
     "user": {
      "displayName": "Kushan Rana",
      "userId": "17808811165655043065"
     },
     "user_tz": -330
    },
    "id": "WUNrZNJbQ3wN",
    "outputId": "3a3f1a72-0188-4206-bce7-945b9f7c81fa"
   },
   "outputs": [
    {
     "name": "stdout",
     "output_type": "stream",
     "text": [
      "\n",
      "After Min-Max Normalization:\n",
      "      Name   Age  Salary\n",
      "0    Alice  0.00    0.00\n",
      "1      Bob  0.25    0.25\n",
      "2  Charlie  0.50    0.50\n",
      "3    David  0.75    0.75\n",
      "4      Eva  1.00    1.00\n"
     ]
    }
   ],
   "source": [
    "print(\"\\nAfter Min-Max Normalization:\")\n",
    "print(df)\n",
    "#result of minimax scalar"
   ]
  },
  {
   "cell_type": "code",
   "execution_count": 14,
   "metadata": {
    "executionInfo": {
     "elapsed": 7,
     "status": "ok",
     "timestamp": 1746779139052,
     "user": {
      "displayName": "Kushan Rana",
      "userId": "17808811165655043065"
     },
     "user_tz": -330
    },
    "id": "sSUeHkp7aSs1"
   },
   "outputs": [],
   "source": [
    "scaler = StandardScaler()\n",
    "#using of standard scalar"
   ]
  },
  {
   "cell_type": "code",
   "execution_count": 15,
   "metadata": {
    "executionInfo": {
     "elapsed": 12,
     "status": "ok",
     "timestamp": 1746779143079,
     "user": {
      "displayName": "Kushan Rana",
      "userId": "17808811165655043065"
     },
     "user_tz": -330
    },
    "id": "ElImYf8Ha7fA"
   },
   "outputs": [],
   "source": [
    "scaled_values = scaler.fit_transform(df[['Age', 'Salary']])\n",
    "#fitting and transforming the numerical features"
   ]
  },
  {
   "cell_type": "code",
   "execution_count": 16,
   "metadata": {
    "executionInfo": {
     "elapsed": 4,
     "status": "ok",
     "timestamp": 1746779164014,
     "user": {
      "displayName": "Kushan Rana",
      "userId": "17808811165655043065"
     },
     "user_tz": -330
    },
    "id": "6R0EfKxwJsQz"
   },
   "outputs": [],
   "source": [
    "scaled_df = pd.DataFrame(scaled_values, columns=['Age_scaled', 'Salary_scaled'])\n",
    "#reading new data frame with scaled values"
   ]
  },
  {
   "cell_type": "code",
   "execution_count": 17,
   "metadata": {
    "executionInfo": {
     "elapsed": 3,
     "status": "ok",
     "timestamp": 1746779183388,
     "user": {
      "displayName": "Kushan Rana",
      "userId": "17808811165655043065"
     },
     "user_tz": -330
    },
    "id": "L4PVc4ULJwo8"
   },
   "outputs": [],
   "source": [
    "result = pd.concat([df['Name'], scaled_df], axis=1)"
   ]
  },
  {
   "cell_type": "code",
   "execution_count": 18,
   "metadata": {
    "colab": {
     "base_uri": "https://localhost:8080/"
    },
    "executionInfo": {
     "elapsed": 46,
     "status": "ok",
     "timestamp": 1746779198314,
     "user": {
      "displayName": "Kushan Rana",
      "userId": "17808811165655043065"
     },
     "user_tz": -330
    },
    "id": "D7Kt1xM1bJ6O",
    "outputId": "b2db9b40-aec9-4594-baf8-5c258300612d"
   },
   "outputs": [
    {
     "name": "stdout",
     "output_type": "stream",
     "text": [
      "\n",
      "Standard Scaled Data:\n",
      "       Name  Age_scaled  Salary_scaled\n",
      "0    Alice   -1.414214      -1.414214\n",
      "1      Bob   -0.707107      -0.707107\n",
      "2  Charlie    0.000000       0.000000\n",
      "3    David    0.707107       0.707107\n",
      "4      Eva    1.414214       1.414214\n"
     ]
    }
   ],
   "source": [
    "print(\"\\nStandard Scaled Data:\\n\", result)\n",
    "#displaying the scale data"
   ]
  },
  {
   "cell_type": "markdown",
   "id": "e45dbfda",
   "metadata": {},
   "source": [
    "## Conclusion\n",
    "\n",
    "Standardization helps bring all features to a similar scale, which can improve the performance of many machine learning models. In this notebook, we successfully transformed raw numerical data into a standardized format using `StandardScaler`.\n"
   ]
  }
 ],
 "metadata": {
  "colab": {
   "authorship_tag": "ABX9TyN4hRFLobbk29nNyXTtHa0r",
   "provenance": []
  },
  "kernelspec": {
   "display_name": "Python 3",
   "name": "python3"
  },
  "language_info": {
   "name": "python"
  }
 },
 "nbformat": 4,
 "nbformat_minor": 0
}
